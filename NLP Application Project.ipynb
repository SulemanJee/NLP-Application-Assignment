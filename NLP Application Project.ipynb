{
 "cells": [
  {
   "cell_type": "code",
   "execution_count": 2,
   "id": "f493900d-39a6-4673-82b1-2bcd957b67cb",
   "metadata": {},
   "outputs": [
    {
     "name": "stdout",
     "output_type": "stream",
     "text": [
      "Naive Bayes Accuracy: 0.5419098143236074\n",
      "K-Means Accuracy: 0.05596816976127321\n",
      "Epoch 1/5\n",
      "\u001b[1m472/472\u001b[0m \u001b[32m━━━━━━━━━━━━━━━━━━━━\u001b[0m\u001b[37m\u001b[0m \u001b[1m69s\u001b[0m 134ms/step - accuracy: 0.1205 - loss: 2.8126 - val_accuracy: 0.2910 - val_loss: 2.0953\n",
      "Epoch 2/5\n",
      "\u001b[1m472/472\u001b[0m \u001b[32m━━━━━━━━━━━━━━━━━━━━\u001b[0m\u001b[37m\u001b[0m \u001b[1m11434s\u001b[0m 24s/step - accuracy: 0.3700 - loss: 1.8691 - val_accuracy: 0.3785 - val_loss: 1.9719\n",
      "Epoch 3/5\n",
      "\u001b[1m472/472\u001b[0m \u001b[32m━━━━━━━━━━━━━━━━━━━━\u001b[0m\u001b[37m\u001b[0m \u001b[1m55s\u001b[0m 116ms/step - accuracy: 0.5732 - loss: 1.2917 - val_accuracy: 0.5239 - val_loss: 1.5383\n",
      "Epoch 4/5\n",
      "\u001b[1m472/472\u001b[0m \u001b[32m━━━━━━━━━━━━━━━━━━━━\u001b[0m\u001b[37m\u001b[0m \u001b[1m57s\u001b[0m 120ms/step - accuracy: 0.7205 - loss: 0.8788 - val_accuracy: 0.5668 - val_loss: 1.4726\n",
      "Epoch 5/5\n",
      "\u001b[1m472/472\u001b[0m \u001b[32m━━━━━━━━━━━━━━━━━━━━\u001b[0m\u001b[37m\u001b[0m \u001b[1m48s\u001b[0m 102ms/step - accuracy: 0.8133 - loss: 0.6222 - val_accuracy: 0.5968 - val_loss: 1.4665\n"
     ]
    },
    {
     "data": {
      "text/plain": [
       "<keras.src.callbacks.history.History at 0x1510fdf8980>"
      ]
     },
     "execution_count": 2,
     "metadata": {},
     "output_type": "execute_result"
    }
   ],
   "source": [
    "import numpy as np\n",
    "import pandas as pd\n",
    "from sklearn.datasets import fetch_20newsgroups\n",
    "from sklearn.feature_extraction.text import TfidfVectorizer\n",
    "from sklearn.model_selection import train_test_split\n",
    "from sklearn.naive_bayes import MultinomialNB\n",
    "from sklearn.cluster import KMeans\n",
    "from sklearn.metrics import accuracy_score\n",
    "from tensorflow.keras.models import Sequential\n",
    "from tensorflow.keras.layers import Dense, Embedding, LSTM, GRU\n",
    "from tensorflow.keras.preprocessing.text import Tokenizer\n",
    "from tensorflow.keras.preprocessing.sequence import pad_sequences\n",
    "import matplotlib.pyplot as plt\n",
    "import seaborn as sns\n",
    "\n",
    "# Load the 20 Newsgroups dataset\n",
    "newsgroups = fetch_20newsgroups(subset='all', remove=('headers', 'footers', 'quotes'))\n",
    "\n",
    "# Split the dataset into training and testing sets\n",
    "X_train, X_test, y_train, y_test = train_test_split(newsgroups.data, newsgroups.target, test_size=0.2, random_state=42)\n",
    "\n",
    "# Vectorize the text data\n",
    "vectorizer = TfidfVectorizer(max_features=1000)\n",
    "X_train_vec = vectorizer.fit_transform(X_train)\n",
    "X_test_vec = vectorizer.transform(X_test)\n",
    "\n",
    "# Train a Naive Bayes classifier\n",
    "nb_classifier = MultinomialNB()\n",
    "nb_classifier.fit(X_train_vec, y_train)\n",
    "\n",
    "# Predict and evaluate\n",
    "nb_predictions = nb_classifier.predict(X_test_vec)\n",
    "nb_accuracy = accuracy_score(y_test, nb_predictions)\n",
    "print(f\"Naive Bayes Accuracy: {nb_accuracy}\")\n",
    "\n",
    "# Train a K-Means clustering model\n",
    "kmeans = KMeans(n_clusters=20, random_state=42)\n",
    "kmeans.fit(X_train_vec.toarray())\n",
    "\n",
    "# Predict and evaluate\n",
    "kmeans_predictions = kmeans.predict(X_test_vec.toarray())\n",
    "kmeans_accuracy = accuracy_score(y_test, kmeans_predictions)\n",
    "print(f\"K-Means Accuracy: {kmeans_accuracy}\")\n",
    "\n",
    "# Tokenize and pad the text data for RNN\n",
    "tokenizer = Tokenizer(num_words=10000)\n",
    "tokenizer.fit_on_texts(X_train)\n",
    "X_train_seq = tokenizer.texts_to_sequences(X_train)\n",
    "X_test_seq = tokenizer.texts_to_sequences(X_test)\n",
    "X_train_pad = pad_sequences(X_train_seq, maxlen=100)\n",
    "X_test_pad = pad_sequences(X_test_seq, maxlen=100)\n",
    "\n",
    "# Define the RNN model\n",
    "rnn_model = Sequential()\n",
    "rnn_model.add(Embedding(10000, 128))\n",
    "rnn_model.add(LSTM(128))\n",
    "rnn_model.add(Dense(20, activation='softmax'))\n",
    "\n",
    "# Compile and train the RNN model\n",
    "rnn_model.compile(loss='sparse_categorical_crossentropy', optimizer='adam', metrics=['accuracy'])\n",
    "rnn_model.fit(X_train_pad, y_train, epochs=5, validation_data=(X_test_pad, y_test))\n",
    "\n",
    "# Note: Implementing LSTM and Transformer models is similar to the RNN model, but requires more detailed setup and training.\n",
    "# For LSTM, replace LSTM with GRU in the model definition.\n",
    "# For Transformer, consider using the transformers library by Hugging Face for pre-trained models or implementing from scratch."
   ]
  },
  {
   "cell_type": "code",
   "execution_count": null,
   "id": "c46520bd-2e9a-4731-b260-0290c3b6a9f7",
   "metadata": {},
   "outputs": [],
   "source": []
  }
 ],
 "metadata": {
  "kernelspec": {
   "display_name": "Python 3 (ipykernel)",
   "language": "python",
   "name": "python3"
  },
  "language_info": {
   "codemirror_mode": {
    "name": "ipython",
    "version": 3
   },
   "file_extension": ".py",
   "mimetype": "text/x-python",
   "name": "python",
   "nbconvert_exporter": "python",
   "pygments_lexer": "ipython3",
   "version": "3.12.2"
  }
 },
 "nbformat": 4,
 "nbformat_minor": 5
}
